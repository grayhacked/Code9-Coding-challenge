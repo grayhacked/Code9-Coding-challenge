{
 "cells": [
  {
   "cell_type": "code",
   "execution_count": 9,
   "id": "c4205c55",
   "metadata": {},
   "outputs": [
    {
     "name": "stdout",
     "output_type": "stream",
     "text": [
      "Entrer Un nombe entre 1 et 10:1\n",
      "1 * 0 = 0\n",
      "1 * 1 = 1\n",
      "1 * 2 = 2\n",
      "1 * 3 = 3\n",
      "1 * 4 = 4\n",
      "1 * 5 = 5\n",
      "1 * 6 = 6\n",
      "1 * 7 = 7\n",
      "1 * 8 = 8\n",
      "1 * 9 = 9\n",
      "1 * 10 = 10\n",
      "Vous voulez entrer un autre nombe ? (w/n)w\n",
      "Entrer Un nombe entre 1 et 10:11\n",
      "Entrer Un nombe entre 1 et 10:3\n",
      "3 * 0 = 0\n",
      "3 * 1 = 3\n",
      "3 * 2 = 6\n",
      "3 * 3 = 9\n",
      "3 * 4 = 12\n",
      "3 * 5 = 15\n",
      "3 * 6 = 18\n",
      "3 * 7 = 21\n",
      "3 * 8 = 24\n",
      "3 * 9 = 27\n",
      "3 * 10 = 30\n",
      "Vous voulez entrer un autre nombe ? (w/n)n\n",
      "Au revoir!!\n"
     ]
    }
   ],
   "source": [
    "while True:\n",
    "    try:\n",
    "        nombre=int(input(\"Entrer Un nombe entre 1 et 10:\"))\n",
    "\n",
    "        while(nombre<1 or nombre>10):\n",
    "            nombre=int(input(\"Entrer Un nombe entre 1 et 10:\"))       \n",
    "        for i in range(11):\n",
    "            print(nombre,\"*\",i,\"=\",nombre*i)\n",
    "        choix=input(\"Vous voulez entrer un autre nombe ? (w/n)\")\n",
    "        if(choix!=\"W\" and choix!=\"w\"):\n",
    "            print(\"Au revoir!!\")\n",
    "            break\n",
    "    except ValueError:\n",
    "        nombre=int(input(\"Entrer Un nombe entre 1 et 10:\"))"
   ]
  },
  {
   "cell_type": "code",
   "execution_count": null,
   "id": "1e0d7fe8",
   "metadata": {},
   "outputs": [],
   "source": []
  }
 ],
 "metadata": {
  "kernelspec": {
   "display_name": "Python 3 (ipykernel)",
   "language": "python",
   "name": "python3"
  },
  "language_info": {
   "codemirror_mode": {
    "name": "ipython",
    "version": 3
   },
   "file_extension": ".py",
   "mimetype": "text/x-python",
   "name": "python",
   "nbconvert_exporter": "python",
   "pygments_lexer": "ipython3",
   "version": "3.9.12"
  }
 },
 "nbformat": 4,
 "nbformat_minor": 5
}
