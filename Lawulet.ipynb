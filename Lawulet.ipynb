{
 "cells": [
  {
   "cell_type": "markdown",
   "id": "2d8c3a82",
   "metadata": {},
   "source": [
    "# LA WOULET"
   ]
  },
  {
   "cell_type": "code",
   "execution_count": 19,
   "id": "9440a59e",
   "metadata": {},
   "outputs": [
    {
     "name": "stdout",
     "output_type": "stream",
     "text": [
      "Entrer le nombre mystere: 56\n",
      "Votre nombre est plus petit que le nombre mystere\n",
      "Entrer le nombre mystere: 67\n",
      "Votre nombre est plus grand que le nombre mystere.\n",
      "Entrer le nombre mystere: 60\n",
      "Bravo!! Vous avez trouver le nombre mystere :  60\n"
     ]
    }
   ],
   "source": [
    "from random import randrange\n",
    "\n",
    "nbre_mystere=randrange(0,100)\n",
    "\n",
    "chance=5\n",
    "\n",
    "for i in range(chance):\n",
    "    nbre_utilisateur=int(input(\"Entrer le nombre mystere: \"))\n",
    "    if(nbre_utilisateur>nbre_mystere):\n",
    "        print(\"Votre nombre est plus grand que le nombre mystere.\")\n",
    "        chance-=1\n",
    "    elif(nbre_utilisateur<nbre_mystere):\n",
    "        print(\"Votre nombre est plus petit que le nombre mystere\")\n",
    "        chance-=1\n",
    "    else:\n",
    "        print(\"Bravo!! Vous avez trouver le nombre mystere : \",nbre_mystere)\n",
    "        break\n"
   ]
  },
  {
   "cell_type": "code",
   "execution_count": null,
   "id": "dae52d50",
   "metadata": {},
   "outputs": [],
   "source": []
  }
 ],
 "metadata": {
  "kernelspec": {
   "display_name": "Python 3 (ipykernel)",
   "language": "python",
   "name": "python3"
  },
  "language_info": {
   "codemirror_mode": {
    "name": "ipython",
    "version": 3
   },
   "file_extension": ".py",
   "mimetype": "text/x-python",
   "name": "python",
   "nbconvert_exporter": "python",
   "pygments_lexer": "ipython3",
   "version": "3.9.12"
  }
 },
 "nbformat": 4,
 "nbformat_minor": 5
}
