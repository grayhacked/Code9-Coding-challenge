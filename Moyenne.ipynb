{
 "cells": [
  {
   "cell_type": "code",
   "execution_count": 11,
   "id": "4c223b27",
   "metadata": {},
   "outputs": [
    {
     "name": "stdout",
     "output_type": "stream",
     "text": [
      "Entrer le nombre de note : 2\n",
      "Entrer la note: 65\n",
      "Entrer la note: 65\n",
      "La moyenne est:  65.0\n",
      "Mention : D\n"
     ]
    }
   ],
   "source": [
    "n=int(input(\"Entrer le nombre de note : \"))\n",
    "while(n<=0):\n",
    "    n=int(input(\"le nombre de note doit etre superieur a zero! Re entrer : \"))\n",
    "\n",
    "note=[]\n",
    "som=0\n",
    "for i in range(n):\n",
    "    note=float(input(\"Entrer la note: \"))\n",
    "    som=som+note\n",
    "moyenne=som/n\n",
    "\n",
    "if(moyenne>=90):\n",
    "    print(\"La moyenne est: \",moyenne)\n",
    "    print(\"Mention : A\")\n",
    "elif(moyenne>=80 and moyenne<90):\n",
    "    print(\"La moyenne est: \",moyenne)\n",
    "    print(\"Mention : B\")\n",
    "elif(moyenne>=70 and moyenne<80):\n",
    "    print(\"La moyenne est: \",moyenne)\n",
    "    print(\"Mention : C\")\n",
    "elif(moyenne>=60 and moyenne<70):\n",
    "    print(\"La moyenne est: \",moyenne)\n",
    "    print(\"Mention : D\")\n",
    "else:\n",
    "    print(\"La moyenne est: \",moyenne)\n",
    "    print(\"Mention : F\")\n",
    "\n"
   ]
  },
  {
   "cell_type": "code",
   "execution_count": null,
   "id": "e7d78b3e",
   "metadata": {},
   "outputs": [],
   "source": []
  }
 ],
 "metadata": {
  "kernelspec": {
   "display_name": "Python 3 (ipykernel)",
   "language": "python",
   "name": "python3"
  },
  "language_info": {
   "codemirror_mode": {
    "name": "ipython",
    "version": 3
   },
   "file_extension": ".py",
   "mimetype": "text/x-python",
   "name": "python",
   "nbconvert_exporter": "python",
   "pygments_lexer": "ipython3",
   "version": "3.9.12"
  }
 },
 "nbformat": 4,
 "nbformat_minor": 5
}
