{
 "cells": [
  {
   "cell_type": "code",
   "execution_count": 7,
   "id": "8593d5eb",
   "metadata": {},
   "outputs": [
    {
     "name": "stdout",
     "output_type": "stream",
     "text": [
      "Entrer un text:DUuckens\n",
      "Le nombre de voyelle est:  2\n"
     ]
    }
   ],
   "source": [
    "import string\n",
    "text=input(\"Entrer un text:\")\n",
    "voyelle=\"aeiouy\"\n",
    "compter=0\n",
    "for char in text:\n",
    "    if char in voyelle:\n",
    "        compter+=1\n",
    "print(\"Le nombre de voyelle est: \",compter)"
   ]
  },
  {
   "cell_type": "code",
   "execution_count": null,
   "id": "8a0fc999",
   "metadata": {},
   "outputs": [],
   "source": []
  }
 ],
 "metadata": {
  "kernelspec": {
   "display_name": "Python 3 (ipykernel)",
   "language": "python",
   "name": "python3"
  },
  "language_info": {
   "codemirror_mode": {
    "name": "ipython",
    "version": 3
   },
   "file_extension": ".py",
   "mimetype": "text/x-python",
   "name": "python",
   "nbconvert_exporter": "python",
   "pygments_lexer": "ipython3",
   "version": "3.9.12"
  }
 },
 "nbformat": 4,
 "nbformat_minor": 5
}
