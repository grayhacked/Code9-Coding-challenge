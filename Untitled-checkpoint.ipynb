{
 "cells": [
  {
   "cell_type": "markdown",
   "id": "473d0f38",
   "metadata": {},
   "source": [
    "# Enonse coding challenge"
   ]
  },
  {
   "cell_type": "code",
   "execution_count": 2,
   "id": "123804da",
   "metadata": {},
   "outputs": [
    {
     "name": "stdout",
     "output_type": "stream",
     "text": [
      "Coding challenge\n"
     ]
    }
   ],
   "source": [
    "print(\"Coding challenge\")"
   ]
  },
  {
   "cell_type": "code",
   "execution_count": null,
   "id": "1ea99d93",
   "metadata": {},
   "outputs": [],
   "source": [
    "import sys\n",
    "\n",
    "print(sys.version)"
   ]
  },
  {
   "cell_type": "code",
   "execution_count": 8,
   "id": "d782da8a",
   "metadata": {},
   "outputs": [
    {
     "name": "stdout",
     "output_type": "stream",
     "text": [
      "Jean Duckens SANNON gen 25 ans.\n"
     ]
    }
   ],
   "source": [
    "nom=\"Jean Duckens SANNON\"\n",
    "age=25\n",
    "print(nom,\"gen\",age,\"ans.\")"
   ]
  },
  {
   "cell_type": "code",
   "execution_count": 9,
   "id": "e7427edf",
   "metadata": {},
   "outputs": [
    {
     "name": "stdout",
     "output_type": "stream",
     "text": [
      "5 + 6 = 11\n",
      "5 - 6 = -1\n",
      "5 * 6 = 30\n",
      "5 / 6 = 0.8333333333333334\n"
     ]
    }
   ],
   "source": [
    "a=5\n",
    "b=6\n",
    "add=a+b\n",
    "sous=a-b\n",
    "mult=a*b\n",
    "div=a/b\n",
    "print(a,\"+\",b,\"=\",add)\n",
    "print(a,\"-\",b,\"=\",sous)\n",
    "print(a,\"*\",b,\"=\",mult)\n",
    "print(a,\"/\",b,\"=\",div)"
   ]
  },
  {
   "cell_type": "code",
   "execution_count": 16,
   "id": "b8612f2b",
   "metadata": {},
   "outputs": [
    {
     "name": "stdout",
     "output_type": "stream",
     "text": [
      "<class 'int'>\n",
      "<class 'str'>\n",
      "<class 'float'>\n",
      "<class 'bool'>\n"
     ]
    }
   ],
   "source": [
    "a=1\n",
    "print(type(a))\n",
    "b='3'\n",
    "print(type(b))\n",
    "c=1.3\n",
    "print(type(c))\n",
    "d=True\n",
    "print(type(d))"
   ]
  }
 ],
 "metadata": {
  "kernelspec": {
   "display_name": "Python 3 (ipykernel)",
   "language": "python",
   "name": "python3"
  },
  "language_info": {
   "codemirror_mode": {
    "name": "ipython",
    "version": 3
   },
   "file_extension": ".py",
   "mimetype": "text/x-python",
   "name": "python",
   "nbconvert_exporter": "python",
   "pygments_lexer": "ipython3",
   "version": "3.9.12"
  }
 },
 "nbformat": 4,
 "nbformat_minor": 5
}
